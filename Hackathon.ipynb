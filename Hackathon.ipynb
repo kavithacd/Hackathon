{
 "cells": [
  {
   "cell_type": "code",
   "execution_count": 1,
   "metadata": {},
   "outputs": [],
   "source": [
    "import pandas as pd\n",
    "import numpy as np\n",
    "import matplotlib.pyplot as plt\n",
    "%matplotlib inline \n",
    "import seaborn as sns\n",
    "from sklearn.preprocessing import LabelEncoder\n",
    "from sklearn.preprocessing import KBinsDiscretizer\n",
    "labelEncoder = LabelEncoder()"
   ]
  },
  {
   "cell_type": "code",
   "execution_count": 2,
   "metadata": {},
   "outputs": [],
   "source": [
    "bond_ratings = pd.read_csv('bond_ratings.csv')\n",
    "## \"tag\"\n",
    "bond_ratings = bond_ratings.drop(['us_govt_bond_rating'], axis = 1)\n",
    "\n",
    "fund_allocations = pd.read_csv('fund_allocations.csv')\n",
    "## \"id\" change name\n",
    "fund_allocations['tag'] = fund_allocations['id']\n",
    "fund_allocations = fund_allocations.drop(['id'], axis = 1)\n",
    "\n",
    "fund_ratios = pd.read_csv('fund_ratios.csv')\n",
    "## \"tag\"\n",
    "\n",
    "fund_config = pd.read_csv('fund_config.csv')\n",
    "## \"fund_id\" merge\n",
    "\n",
    "fund_specs = pd.read_csv('fund_specs.csv')\n",
    "## \"tag\"\n",
    "\n",
    "other_specs = pd.read_csv('other_specs.csv')\n",
    "other_specs = other_specs.drop(['pc_ratio', 'pe_ratio', 'ps_ratio', 'mmc', 'greatstone_rating', 'pb_ratio', 'fund_return_3years'], axis = 1)\n",
    "## \"tag\"\n",
    "\n",
    "return_3year = pd.read_csv('return_3year.csv')\n",
    "## \"tag\"\n",
    "\n",
    "return_5year = pd.read_csv('return_5year.csv')\n",
    "## \"tag\"\n",
    "\n",
    "return_10year = pd.read_csv('return_10year.csv')\n",
    "## \"fund_Id\" merge"
   ]
  },
  {
   "cell_type": "code",
   "execution_count": 3,
   "metadata": {},
   "outputs": [],
   "source": [
    "### order the data correctly by merging all the tables based on common columns\n",
    "combine = pd.merge(bond_ratings, fund_allocations,how='inner',on=\"tag\")\n",
    "combine = pd.merge(combine, fund_ratios, how='inner', on=\"tag\")\n",
    "combine = pd.merge(combine, fund_config, how='inner', on=\"fund_id\")\n",
    "combine = pd.merge(combine, fund_specs, how='inner', on=\"tag\")\n",
    "combine = pd.merge(combine, other_specs, how='inner', on=\"tag\")\n",
    "combine = pd.merge(combine, return_3year, how='inner', on=\"tag\")\n",
    "combine = pd.merge(combine, return_5year, how='inner', on=\"tag\")\n",
    "combine = pd.merge(combine, return_10year, how='inner', on=\"fund_id\")\n",
    "\n",
    "### Save the order of the tag and fund_id\n",
    "fundIdTag = pd.DataFrame()\n",
    "fundIdTag['tag'] = combine['tag']\n",
    "fundIdTag['fund_id'] = combine['fund_id']\n",
    "fundIdTag['greatstone_rating'] = combine['greatstone_rating']\n",
    "\n",
    "###seperate into object, floats and ints so pre-processing is simpler.\n",
    "combineFloat = pd.DataFrame()\n",
    "combineInt = pd.DataFrame()\n",
    "combineObj = pd.DataFrame()\n",
    "for col in combine:\n",
    "    if(combine[col].dtype == 'float64'):\n",
    "        combineFloat[col] = combine[col]\n",
    "    elif (combine[col].dtype == 'int64'):\n",
    "        combineInt[col] = combine[col]\n",
    "    else:\n",
    "        combineObj[col] = combine[col]"
   ]
  },
  {
   "cell_type": "code",
   "execution_count": 4,
   "metadata": {},
   "outputs": [],
   "source": [
    "temp = combineObj.drop(['fund_id', 'fund_name', 'currency'], axis = 1)\n",
    "labelObj = pd.DataFrame()\n",
    "###using Mode replacement strategy\n",
    "for col in temp:\n",
    "    if len(temp[col].unique()) > len(temp['category'].unique()) and col != 'inception_date' and col != 'parent_company':\n",
    "        combineFloat[col] = temp[col].astype('str')\n",
    "        combineFloat[col] = combineFloat[col].str.replace(',', '')\n",
    "        combineFloat.loc[combineFloat[col] == \"nan\", col] = np.NaN\n",
    "        combineFloat[col] = pd.to_numeric(combineFloat[col])\n",
    "        mode = combineFloat[col].mode()\n",
    "        combineFloat[col].fillna(mode, inplace = True)\n",
    "        combineFloat.loc[combineFloat[col] == np.NaN, col] = mode\n",
    "        combineObj = combineObj.drop([col], axis = 1)\n",
    "        \n",
    "    elif col != 'inception_date':\n",
    "        labelObj[col] = temp[col].astype('str')\n",
    "        mode = labelObj[col].mode()\n",
    "        labelObj[col].fillna(mode, inplace = True)\n",
    "        labelObj.loc[labelObj[col] == np.NaN, col] = mode\n",
    "        labelObj[col] = labelEncoder.fit_transform(labelObj[col])\n",
    "        \n",
    "    else:\n",
    "        combineFloat[col] = pd.to_datetime(temp[col])\n",
    "        combineFloat[col] = pd.to_numeric(combineFloat[col])\n",
    "        combineObj = combineObj.drop([col], axis = 1)"
   ]
  },
  {
   "cell_type": "code",
   "execution_count": 5,
   "metadata": {},
   "outputs": [
    {
     "name": "stderr",
     "output_type": "stream",
     "text": [
      "C:\\Users\\Tim Buckley\\Documents\\Anaconda3\\lib\\site-packages\\sklearn\\preprocessing\\_discretization.py:193: UserWarning: Bins whose width are too small (i.e., <= 1e-8) in feature 0 are removed. Consider decreasing the number of bins.\n",
      "  'decreasing the number of bins.' % jj)\n",
      "C:\\Users\\Tim Buckley\\Documents\\Anaconda3\\lib\\site-packages\\sklearn\\preprocessing\\_discretization.py:193: UserWarning: Bins whose width are too small (i.e., <= 1e-8) in feature 1 are removed. Consider decreasing the number of bins.\n",
      "  'decreasing the number of bins.' % jj)\n",
      "C:\\Users\\Tim Buckley\\Documents\\Anaconda3\\lib\\site-packages\\sklearn\\preprocessing\\_discretization.py:193: UserWarning: Bins whose width are too small (i.e., <= 1e-8) in feature 2 are removed. Consider decreasing the number of bins.\n",
      "  'decreasing the number of bins.' % jj)\n",
      "C:\\Users\\Tim Buckley\\Documents\\Anaconda3\\lib\\site-packages\\sklearn\\preprocessing\\_discretization.py:193: UserWarning: Bins whose width are too small (i.e., <= 1e-8) in feature 3 are removed. Consider decreasing the number of bins.\n",
      "  'decreasing the number of bins.' % jj)\n",
      "C:\\Users\\Tim Buckley\\Documents\\Anaconda3\\lib\\site-packages\\sklearn\\preprocessing\\_discretization.py:193: UserWarning: Bins whose width are too small (i.e., <= 1e-8) in feature 4 are removed. Consider decreasing the number of bins.\n",
      "  'decreasing the number of bins.' % jj)\n",
      "C:\\Users\\Tim Buckley\\Documents\\Anaconda3\\lib\\site-packages\\sklearn\\preprocessing\\_discretization.py:193: UserWarning: Bins whose width are too small (i.e., <= 1e-8) in feature 5 are removed. Consider decreasing the number of bins.\n",
      "  'decreasing the number of bins.' % jj)\n",
      "C:\\Users\\Tim Buckley\\Documents\\Anaconda3\\lib\\site-packages\\sklearn\\preprocessing\\_discretization.py:193: UserWarning: Bins whose width are too small (i.e., <= 1e-8) in feature 6 are removed. Consider decreasing the number of bins.\n",
      "  'decreasing the number of bins.' % jj)\n",
      "C:\\Users\\Tim Buckley\\Documents\\Anaconda3\\lib\\site-packages\\sklearn\\preprocessing\\_discretization.py:193: UserWarning: Bins whose width are too small (i.e., <= 1e-8) in feature 7 are removed. Consider decreasing the number of bins.\n",
      "  'decreasing the number of bins.' % jj)\n",
      "C:\\Users\\Tim Buckley\\Documents\\Anaconda3\\lib\\site-packages\\sklearn\\preprocessing\\_discretization.py:193: UserWarning: Bins whose width are too small (i.e., <= 1e-8) in feature 8 are removed. Consider decreasing the number of bins.\n",
      "  'decreasing the number of bins.' % jj)\n",
      "C:\\Users\\Tim Buckley\\Documents\\Anaconda3\\lib\\site-packages\\sklearn\\preprocessing\\_discretization.py:193: UserWarning: Bins whose width are too small (i.e., <= 1e-8) in feature 9 are removed. Consider decreasing the number of bins.\n",
      "  'decreasing the number of bins.' % jj)\n",
      "C:\\Users\\Tim Buckley\\Documents\\Anaconda3\\lib\\site-packages\\sklearn\\preprocessing\\_discretization.py:193: UserWarning: Bins whose width are too small (i.e., <= 1e-8) in feature 10 are removed. Consider decreasing the number of bins.\n",
      "  'decreasing the number of bins.' % jj)\n",
      "C:\\Users\\Tim Buckley\\Documents\\Anaconda3\\lib\\site-packages\\sklearn\\preprocessing\\_discretization.py:193: UserWarning: Bins whose width are too small (i.e., <= 1e-8) in feature 11 are removed. Consider decreasing the number of bins.\n",
      "  'decreasing the number of bins.' % jj)\n",
      "C:\\Users\\Tim Buckley\\Documents\\Anaconda3\\lib\\site-packages\\sklearn\\preprocessing\\_discretization.py:193: UserWarning: Bins whose width are too small (i.e., <= 1e-8) in feature 12 are removed. Consider decreasing the number of bins.\n",
      "  'decreasing the number of bins.' % jj)\n",
      "C:\\Users\\Tim Buckley\\Documents\\Anaconda3\\lib\\site-packages\\sklearn\\preprocessing\\_discretization.py:193: UserWarning: Bins whose width are too small (i.e., <= 1e-8) in feature 13 are removed. Consider decreasing the number of bins.\n",
      "  'decreasing the number of bins.' % jj)\n",
      "C:\\Users\\Tim Buckley\\Documents\\Anaconda3\\lib\\site-packages\\sklearn\\preprocessing\\_discretization.py:193: UserWarning: Bins whose width are too small (i.e., <= 1e-8) in feature 14 are removed. Consider decreasing the number of bins.\n",
      "  'decreasing the number of bins.' % jj)\n",
      "C:\\Users\\Tim Buckley\\Documents\\Anaconda3\\lib\\site-packages\\sklearn\\preprocessing\\_discretization.py:193: UserWarning: Bins whose width are too small (i.e., <= 1e-8) in feature 15 are removed. Consider decreasing the number of bins.\n",
      "  'decreasing the number of bins.' % jj)\n",
      "C:\\Users\\Tim Buckley\\Documents\\Anaconda3\\lib\\site-packages\\sklearn\\preprocessing\\_discretization.py:193: UserWarning: Bins whose width are too small (i.e., <= 1e-8) in feature 16 are removed. Consider decreasing the number of bins.\n",
      "  'decreasing the number of bins.' % jj)\n",
      "C:\\Users\\Tim Buckley\\Documents\\Anaconda3\\lib\\site-packages\\sklearn\\preprocessing\\_discretization.py:193: UserWarning: Bins whose width are too small (i.e., <= 1e-8) in feature 17 are removed. Consider decreasing the number of bins.\n",
      "  'decreasing the number of bins.' % jj)\n",
      "C:\\Users\\Tim Buckley\\Documents\\Anaconda3\\lib\\site-packages\\sklearn\\preprocessing\\_discretization.py:193: UserWarning: Bins whose width are too small (i.e., <= 1e-8) in feature 18 are removed. Consider decreasing the number of bins.\n",
      "  'decreasing the number of bins.' % jj)\n",
      "C:\\Users\\Tim Buckley\\Documents\\Anaconda3\\lib\\site-packages\\sklearn\\preprocessing\\_discretization.py:193: UserWarning: Bins whose width are too small (i.e., <= 1e-8) in feature 19 are removed. Consider decreasing the number of bins.\n",
      "  'decreasing the number of bins.' % jj)\n",
      "C:\\Users\\Tim Buckley\\Documents\\Anaconda3\\lib\\site-packages\\sklearn\\preprocessing\\_discretization.py:193: UserWarning: Bins whose width are too small (i.e., <= 1e-8) in feature 20 are removed. Consider decreasing the number of bins.\n",
      "  'decreasing the number of bins.' % jj)\n",
      "C:\\Users\\Tim Buckley\\Documents\\Anaconda3\\lib\\site-packages\\sklearn\\preprocessing\\_discretization.py:193: UserWarning: Bins whose width are too small (i.e., <= 1e-8) in feature 21 are removed. Consider decreasing the number of bins.\n",
      "  'decreasing the number of bins.' % jj)\n",
      "C:\\Users\\Tim Buckley\\Documents\\Anaconda3\\lib\\site-packages\\sklearn\\preprocessing\\_discretization.py:193: UserWarning: Bins whose width are too small (i.e., <= 1e-8) in feature 22 are removed. Consider decreasing the number of bins.\n",
      "  'decreasing the number of bins.' % jj)\n",
      "C:\\Users\\Tim Buckley\\Documents\\Anaconda3\\lib\\site-packages\\sklearn\\preprocessing\\_discretization.py:193: UserWarning: Bins whose width are too small (i.e., <= 1e-8) in feature 24 are removed. Consider decreasing the number of bins.\n",
      "  'decreasing the number of bins.' % jj)\n",
      "C:\\Users\\Tim Buckley\\Documents\\Anaconda3\\lib\\site-packages\\sklearn\\preprocessing\\_discretization.py:193: UserWarning: Bins whose width are too small (i.e., <= 1e-8) in feature 25 are removed. Consider decreasing the number of bins.\n",
      "  'decreasing the number of bins.' % jj)\n",
      "C:\\Users\\Tim Buckley\\Documents\\Anaconda3\\lib\\site-packages\\sklearn\\preprocessing\\_discretization.py:193: UserWarning: Bins whose width are too small (i.e., <= 1e-8) in feature 27 are removed. Consider decreasing the number of bins.\n",
      "  'decreasing the number of bins.' % jj)\n",
      "C:\\Users\\Tim Buckley\\Documents\\Anaconda3\\lib\\site-packages\\sklearn\\preprocessing\\_discretization.py:193: UserWarning: Bins whose width are too small (i.e., <= 1e-8) in feature 28 are removed. Consider decreasing the number of bins.\n",
      "  'decreasing the number of bins.' % jj)\n",
      "C:\\Users\\Tim Buckley\\Documents\\Anaconda3\\lib\\site-packages\\sklearn\\preprocessing\\_discretization.py:193: UserWarning: Bins whose width are too small (i.e., <= 1e-8) in feature 29 are removed. Consider decreasing the number of bins.\n",
      "  'decreasing the number of bins.' % jj)\n",
      "C:\\Users\\Tim Buckley\\Documents\\Anaconda3\\lib\\site-packages\\sklearn\\preprocessing\\_discretization.py:193: UserWarning: Bins whose width are too small (i.e., <= 1e-8) in feature 30 are removed. Consider decreasing the number of bins.\n",
      "  'decreasing the number of bins.' % jj)\n",
      "C:\\Users\\Tim Buckley\\Documents\\Anaconda3\\lib\\site-packages\\sklearn\\preprocessing\\_discretization.py:193: UserWarning: Bins whose width are too small (i.e., <= 1e-8) in feature 31 are removed. Consider decreasing the number of bins.\n",
      "  'decreasing the number of bins.' % jj)\n",
      "C:\\Users\\Tim Buckley\\Documents\\Anaconda3\\lib\\site-packages\\sklearn\\preprocessing\\_discretization.py:193: UserWarning: Bins whose width are too small (i.e., <= 1e-8) in feature 32 are removed. Consider decreasing the number of bins.\n",
      "  'decreasing the number of bins.' % jj)\n",
      "C:\\Users\\Tim Buckley\\Documents\\Anaconda3\\lib\\site-packages\\sklearn\\preprocessing\\_discretization.py:193: UserWarning: Bins whose width are too small (i.e., <= 1e-8) in feature 33 are removed. Consider decreasing the number of bins.\n",
      "  'decreasing the number of bins.' % jj)\n",
      "C:\\Users\\Tim Buckley\\Documents\\Anaconda3\\lib\\site-packages\\sklearn\\preprocessing\\_discretization.py:193: UserWarning: Bins whose width are too small (i.e., <= 1e-8) in feature 35 are removed. Consider decreasing the number of bins.\n",
      "  'decreasing the number of bins.' % jj)\n",
      "C:\\Users\\Tim Buckley\\Documents\\Anaconda3\\lib\\site-packages\\sklearn\\preprocessing\\_discretization.py:193: UserWarning: Bins whose width are too small (i.e., <= 1e-8) in feature 36 are removed. Consider decreasing the number of bins.\n",
      "  'decreasing the number of bins.' % jj)\n",
      "C:\\Users\\Tim Buckley\\Documents\\Anaconda3\\lib\\site-packages\\sklearn\\preprocessing\\_discretization.py:193: UserWarning: Bins whose width are too small (i.e., <= 1e-8) in feature 37 are removed. Consider decreasing the number of bins.\n",
      "  'decreasing the number of bins.' % jj)\n",
      "C:\\Users\\Tim Buckley\\Documents\\Anaconda3\\lib\\site-packages\\sklearn\\preprocessing\\_discretization.py:193: UserWarning: Bins whose width are too small (i.e., <= 1e-8) in feature 38 are removed. Consider decreasing the number of bins.\n",
      "  'decreasing the number of bins.' % jj)\n",
      "C:\\Users\\Tim Buckley\\Documents\\Anaconda3\\lib\\site-packages\\sklearn\\preprocessing\\_discretization.py:193: UserWarning: Bins whose width are too small (i.e., <= 1e-8) in feature 40 are removed. Consider decreasing the number of bins.\n",
      "  'decreasing the number of bins.' % jj)\n",
      "C:\\Users\\Tim Buckley\\Documents\\Anaconda3\\lib\\site-packages\\sklearn\\preprocessing\\_discretization.py:193: UserWarning: Bins whose width are too small (i.e., <= 1e-8) in feature 41 are removed. Consider decreasing the number of bins.\n",
      "  'decreasing the number of bins.' % jj)\n",
      "C:\\Users\\Tim Buckley\\Documents\\Anaconda3\\lib\\site-packages\\sklearn\\preprocessing\\_discretization.py:193: UserWarning: Bins whose width are too small (i.e., <= 1e-8) in feature 43 are removed. Consider decreasing the number of bins.\n",
      "  'decreasing the number of bins.' % jj)\n",
      "C:\\Users\\Tim Buckley\\Documents\\Anaconda3\\lib\\site-packages\\sklearn\\preprocessing\\_discretization.py:193: UserWarning: Bins whose width are too small (i.e., <= 1e-8) in feature 44 are removed. Consider decreasing the number of bins.\n",
      "  'decreasing the number of bins.' % jj)\n",
      "C:\\Users\\Tim Buckley\\Documents\\Anaconda3\\lib\\site-packages\\sklearn\\preprocessing\\_discretization.py:193: UserWarning: Bins whose width are too small (i.e., <= 1e-8) in feature 45 are removed. Consider decreasing the number of bins.\n",
      "  'decreasing the number of bins.' % jj)\n",
      "C:\\Users\\Tim Buckley\\Documents\\Anaconda3\\lib\\site-packages\\sklearn\\preprocessing\\_discretization.py:193: UserWarning: Bins whose width are too small (i.e., <= 1e-8) in feature 46 are removed. Consider decreasing the number of bins.\n",
      "  'decreasing the number of bins.' % jj)\n",
      "C:\\Users\\Tim Buckley\\Documents\\Anaconda3\\lib\\site-packages\\sklearn\\preprocessing\\_discretization.py:193: UserWarning: Bins whose width are too small (i.e., <= 1e-8) in feature 47 are removed. Consider decreasing the number of bins.\n",
      "  'decreasing the number of bins.' % jj)\n",
      "C:\\Users\\Tim Buckley\\Documents\\Anaconda3\\lib\\site-packages\\sklearn\\preprocessing\\_discretization.py:193: UserWarning: Bins whose width are too small (i.e., <= 1e-8) in feature 48 are removed. Consider decreasing the number of bins.\n",
      "  'decreasing the number of bins.' % jj)\n",
      "C:\\Users\\Tim Buckley\\Documents\\Anaconda3\\lib\\site-packages\\sklearn\\preprocessing\\_discretization.py:193: UserWarning: Bins whose width are too small (i.e., <= 1e-8) in feature 49 are removed. Consider decreasing the number of bins.\n",
      "  'decreasing the number of bins.' % jj)\n",
      "C:\\Users\\Tim Buckley\\Documents\\Anaconda3\\lib\\site-packages\\sklearn\\preprocessing\\_discretization.py:193: UserWarning: Bins whose width are too small (i.e., <= 1e-8) in feature 50 are removed. Consider decreasing the number of bins.\n",
      "  'decreasing the number of bins.' % jj)\n",
      "C:\\Users\\Tim Buckley\\Documents\\Anaconda3\\lib\\site-packages\\sklearn\\preprocessing\\_discretization.py:193: UserWarning: Bins whose width are too small (i.e., <= 1e-8) in feature 51 are removed. Consider decreasing the number of bins.\n",
      "  'decreasing the number of bins.' % jj)\n",
      "C:\\Users\\Tim Buckley\\Documents\\Anaconda3\\lib\\site-packages\\sklearn\\preprocessing\\_discretization.py:193: UserWarning: Bins whose width are too small (i.e., <= 1e-8) in feature 52 are removed. Consider decreasing the number of bins.\n",
      "  'decreasing the number of bins.' % jj)\n",
      "C:\\Users\\Tim Buckley\\Documents\\Anaconda3\\lib\\site-packages\\sklearn\\preprocessing\\_discretization.py:193: UserWarning: Bins whose width are too small (i.e., <= 1e-8) in feature 53 are removed. Consider decreasing the number of bins.\n",
      "  'decreasing the number of bins.' % jj)\n",
      "C:\\Users\\Tim Buckley\\Documents\\Anaconda3\\lib\\site-packages\\sklearn\\preprocessing\\_discretization.py:193: UserWarning: Bins whose width are too small (i.e., <= 1e-8) in feature 54 are removed. Consider decreasing the number of bins.\n",
      "  'decreasing the number of bins.' % jj)\n",
      "C:\\Users\\Tim Buckley\\Documents\\Anaconda3\\lib\\site-packages\\sklearn\\preprocessing\\_discretization.py:193: UserWarning: Bins whose width are too small (i.e., <= 1e-8) in feature 55 are removed. Consider decreasing the number of bins.\n",
      "  'decreasing the number of bins.' % jj)\n",
      "C:\\Users\\Tim Buckley\\Documents\\Anaconda3\\lib\\site-packages\\sklearn\\preprocessing\\_discretization.py:193: UserWarning: Bins whose width are too small (i.e., <= 1e-8) in feature 56 are removed. Consider decreasing the number of bins.\n",
      "  'decreasing the number of bins.' % jj)\n",
      "C:\\Users\\Tim Buckley\\Documents\\Anaconda3\\lib\\site-packages\\sklearn\\preprocessing\\_discretization.py:193: UserWarning: Bins whose width are too small (i.e., <= 1e-8) in feature 58 are removed. Consider decreasing the number of bins.\n",
      "  'decreasing the number of bins.' % jj)\n",
      "C:\\Users\\Tim Buckley\\Documents\\Anaconda3\\lib\\site-packages\\sklearn\\preprocessing\\_discretization.py:193: UserWarning: Bins whose width are too small (i.e., <= 1e-8) in feature 59 are removed. Consider decreasing the number of bins.\n",
      "  'decreasing the number of bins.' % jj)\n",
      "C:\\Users\\Tim Buckley\\Documents\\Anaconda3\\lib\\site-packages\\sklearn\\preprocessing\\_discretization.py:193: UserWarning: Bins whose width are too small (i.e., <= 1e-8) in feature 60 are removed. Consider decreasing the number of bins.\n",
      "  'decreasing the number of bins.' % jj)\n",
      "C:\\Users\\Tim Buckley\\Documents\\Anaconda3\\lib\\site-packages\\sklearn\\preprocessing\\_discretization.py:193: UserWarning: Bins whose width are too small (i.e., <= 1e-8) in feature 61 are removed. Consider decreasing the number of bins.\n",
      "  'decreasing the number of bins.' % jj)\n",
      "C:\\Users\\Tim Buckley\\Documents\\Anaconda3\\lib\\site-packages\\sklearn\\preprocessing\\_discretization.py:193: UserWarning: Bins whose width are too small (i.e., <= 1e-8) in feature 62 are removed. Consider decreasing the number of bins.\n",
      "  'decreasing the number of bins.' % jj)\n",
      "C:\\Users\\Tim Buckley\\Documents\\Anaconda3\\lib\\site-packages\\sklearn\\preprocessing\\_discretization.py:193: UserWarning: Bins whose width are too small (i.e., <= 1e-8) in feature 63 are removed. Consider decreasing the number of bins.\n",
      "  'decreasing the number of bins.' % jj)\n",
      "C:\\Users\\Tim Buckley\\Documents\\Anaconda3\\lib\\site-packages\\sklearn\\preprocessing\\_discretization.py:193: UserWarning: Bins whose width are too small (i.e., <= 1e-8) in feature 64 are removed. Consider decreasing the number of bins.\n",
      "  'decreasing the number of bins.' % jj)\n",
      "C:\\Users\\Tim Buckley\\Documents\\Anaconda3\\lib\\site-packages\\sklearn\\preprocessing\\_discretization.py:193: UserWarning: Bins whose width are too small (i.e., <= 1e-8) in feature 65 are removed. Consider decreasing the number of bins.\n",
      "  'decreasing the number of bins.' % jj)\n",
      "C:\\Users\\Tim Buckley\\Documents\\Anaconda3\\lib\\site-packages\\sklearn\\preprocessing\\_discretization.py:193: UserWarning: Bins whose width are too small (i.e., <= 1e-8) in feature 66 are removed. Consider decreasing the number of bins.\n",
      "  'decreasing the number of bins.' % jj)\n",
      "C:\\Users\\Tim Buckley\\Documents\\Anaconda3\\lib\\site-packages\\sklearn\\preprocessing\\_discretization.py:193: UserWarning: Bins whose width are too small (i.e., <= 1e-8) in feature 67 are removed. Consider decreasing the number of bins.\n",
      "  'decreasing the number of bins.' % jj)\n",
      "C:\\Users\\Tim Buckley\\Documents\\Anaconda3\\lib\\site-packages\\sklearn\\preprocessing\\_discretization.py:193: UserWarning: Bins whose width are too small (i.e., <= 1e-8) in feature 68 are removed. Consider decreasing the number of bins.\n",
      "  'decreasing the number of bins.' % jj)\n",
      "C:\\Users\\Tim Buckley\\Documents\\Anaconda3\\lib\\site-packages\\sklearn\\preprocessing\\_discretization.py:193: UserWarning: Bins whose width are too small (i.e., <= 1e-8) in feature 69 are removed. Consider decreasing the number of bins.\n",
      "  'decreasing the number of bins.' % jj)\n",
      "C:\\Users\\Tim Buckley\\Documents\\Anaconda3\\lib\\site-packages\\sklearn\\preprocessing\\_discretization.py:193: UserWarning: Bins whose width are too small (i.e., <= 1e-8) in feature 70 are removed. Consider decreasing the number of bins.\n",
      "  'decreasing the number of bins.' % jj)\n",
      "C:\\Users\\Tim Buckley\\Documents\\Anaconda3\\lib\\site-packages\\sklearn\\preprocessing\\_discretization.py:193: UserWarning: Bins whose width are too small (i.e., <= 1e-8) in feature 71 are removed. Consider decreasing the number of bins.\n",
      "  'decreasing the number of bins.' % jj)\n",
      "C:\\Users\\Tim Buckley\\Documents\\Anaconda3\\lib\\site-packages\\sklearn\\preprocessing\\_discretization.py:193: UserWarning: Bins whose width are too small (i.e., <= 1e-8) in feature 72 are removed. Consider decreasing the number of bins.\n",
      "  'decreasing the number of bins.' % jj)\n",
      "C:\\Users\\Tim Buckley\\Documents\\Anaconda3\\lib\\site-packages\\sklearn\\preprocessing\\_discretization.py:193: UserWarning: Bins whose width are too small (i.e., <= 1e-8) in feature 73 are removed. Consider decreasing the number of bins.\n",
      "  'decreasing the number of bins.' % jj)\n",
      "C:\\Users\\Tim Buckley\\Documents\\Anaconda3\\lib\\site-packages\\sklearn\\preprocessing\\_discretization.py:193: UserWarning: Bins whose width are too small (i.e., <= 1e-8) in feature 74 are removed. Consider decreasing the number of bins.\n",
      "  'decreasing the number of bins.' % jj)\n",
      "C:\\Users\\Tim Buckley\\Documents\\Anaconda3\\lib\\site-packages\\sklearn\\preprocessing\\_discretization.py:193: UserWarning: Bins whose width are too small (i.e., <= 1e-8) in feature 75 are removed. Consider decreasing the number of bins.\n",
      "  'decreasing the number of bins.' % jj)\n",
      "C:\\Users\\Tim Buckley\\Documents\\Anaconda3\\lib\\site-packages\\sklearn\\preprocessing\\_discretization.py:193: UserWarning: Bins whose width are too small (i.e., <= 1e-8) in feature 76 are removed. Consider decreasing the number of bins.\n",
      "  'decreasing the number of bins.' % jj)\n",
      "C:\\Users\\Tim Buckley\\Documents\\Anaconda3\\lib\\site-packages\\sklearn\\preprocessing\\_discretization.py:193: UserWarning: Bins whose width are too small (i.e., <= 1e-8) in feature 77 are removed. Consider decreasing the number of bins.\n",
      "  'decreasing the number of bins.' % jj)\n",
      "C:\\Users\\Tim Buckley\\Documents\\Anaconda3\\lib\\site-packages\\sklearn\\preprocessing\\_discretization.py:193: UserWarning: Bins whose width are too small (i.e., <= 1e-8) in feature 78 are removed. Consider decreasing the number of bins.\n",
      "  'decreasing the number of bins.' % jj)\n",
      "C:\\Users\\Tim Buckley\\Documents\\Anaconda3\\lib\\site-packages\\sklearn\\preprocessing\\_discretization.py:193: UserWarning: Bins whose width are too small (i.e., <= 1e-8) in feature 79 are removed. Consider decreasing the number of bins.\n",
      "  'decreasing the number of bins.' % jj)\n",
      "C:\\Users\\Tim Buckley\\Documents\\Anaconda3\\lib\\site-packages\\sklearn\\preprocessing\\_discretization.py:193: UserWarning: Bins whose width are too small (i.e., <= 1e-8) in feature 80 are removed. Consider decreasing the number of bins.\n",
      "  'decreasing the number of bins.' % jj)\n",
      "C:\\Users\\Tim Buckley\\Documents\\Anaconda3\\lib\\site-packages\\sklearn\\preprocessing\\_discretization.py:193: UserWarning: Bins whose width are too small (i.e., <= 1e-8) in feature 81 are removed. Consider decreasing the number of bins.\n",
      "  'decreasing the number of bins.' % jj)\n",
      "C:\\Users\\Tim Buckley\\Documents\\Anaconda3\\lib\\site-packages\\sklearn\\preprocessing\\_discretization.py:193: UserWarning: Bins whose width are too small (i.e., <= 1e-8) in feature 82 are removed. Consider decreasing the number of bins.\n",
      "  'decreasing the number of bins.' % jj)\n",
      "C:\\Users\\Tim Buckley\\Documents\\Anaconda3\\lib\\site-packages\\sklearn\\preprocessing\\_discretization.py:193: UserWarning: Bins whose width are too small (i.e., <= 1e-8) in feature 83 are removed. Consider decreasing the number of bins.\n",
      "  'decreasing the number of bins.' % jj)\n",
      "C:\\Users\\Tim Buckley\\Documents\\Anaconda3\\lib\\site-packages\\sklearn\\preprocessing\\_discretization.py:193: UserWarning: Bins whose width are too small (i.e., <= 1e-8) in feature 84 are removed. Consider decreasing the number of bins.\n",
      "  'decreasing the number of bins.' % jj)\n",
      "C:\\Users\\Tim Buckley\\Documents\\Anaconda3\\lib\\site-packages\\sklearn\\preprocessing\\_discretization.py:193: UserWarning: Bins whose width are too small (i.e., <= 1e-8) in feature 85 are removed. Consider decreasing the number of bins.\n",
      "  'decreasing the number of bins.' % jj)\n",
      "C:\\Users\\Tim Buckley\\Documents\\Anaconda3\\lib\\site-packages\\sklearn\\preprocessing\\_discretization.py:193: UserWarning: Bins whose width are too small (i.e., <= 1e-8) in feature 86 are removed. Consider decreasing the number of bins.\n",
      "  'decreasing the number of bins.' % jj)\n",
      "C:\\Users\\Tim Buckley\\Documents\\Anaconda3\\lib\\site-packages\\sklearn\\preprocessing\\_discretization.py:193: UserWarning: Bins whose width are too small (i.e., <= 1e-8) in feature 87 are removed. Consider decreasing the number of bins.\n",
      "  'decreasing the number of bins.' % jj)\n",
      "C:\\Users\\Tim Buckley\\Documents\\Anaconda3\\lib\\site-packages\\sklearn\\preprocessing\\_discretization.py:193: UserWarning: Bins whose width are too small (i.e., <= 1e-8) in feature 88 are removed. Consider decreasing the number of bins.\n",
      "  'decreasing the number of bins.' % jj)\n",
      "C:\\Users\\Tim Buckley\\Documents\\Anaconda3\\lib\\site-packages\\sklearn\\preprocessing\\_discretization.py:193: UserWarning: Bins whose width are too small (i.e., <= 1e-8) in feature 89 are removed. Consider decreasing the number of bins.\n",
      "  'decreasing the number of bins.' % jj)\n",
      "C:\\Users\\Tim Buckley\\Documents\\Anaconda3\\lib\\site-packages\\sklearn\\preprocessing\\_discretization.py:193: UserWarning: Bins whose width are too small (i.e., <= 1e-8) in feature 90 are removed. Consider decreasing the number of bins.\n",
      "  'decreasing the number of bins.' % jj)\n",
      "C:\\Users\\Tim Buckley\\Documents\\Anaconda3\\lib\\site-packages\\sklearn\\preprocessing\\_discretization.py:193: UserWarning: Bins whose width are too small (i.e., <= 1e-8) in feature 91 are removed. Consider decreasing the number of bins.\n",
      "  'decreasing the number of bins.' % jj)\n",
      "C:\\Users\\Tim Buckley\\Documents\\Anaconda3\\lib\\site-packages\\sklearn\\preprocessing\\_discretization.py:193: UserWarning: Bins whose width are too small (i.e., <= 1e-8) in feature 92 are removed. Consider decreasing the number of bins.\n",
      "  'decreasing the number of bins.' % jj)\n",
      "C:\\Users\\Tim Buckley\\Documents\\Anaconda3\\lib\\site-packages\\sklearn\\preprocessing\\_discretization.py:193: UserWarning: Bins whose width are too small (i.e., <= 1e-8) in feature 93 are removed. Consider decreasing the number of bins.\n",
      "  'decreasing the number of bins.' % jj)\n",
      "C:\\Users\\Tim Buckley\\Documents\\Anaconda3\\lib\\site-packages\\sklearn\\preprocessing\\_discretization.py:193: UserWarning: Bins whose width are too small (i.e., <= 1e-8) in feature 94 are removed. Consider decreasing the number of bins.\n",
      "  'decreasing the number of bins.' % jj)\n",
      "C:\\Users\\Tim Buckley\\Documents\\Anaconda3\\lib\\site-packages\\sklearn\\preprocessing\\_discretization.py:193: UserWarning: Bins whose width are too small (i.e., <= 1e-8) in feature 95 are removed. Consider decreasing the number of bins.\n",
      "  'decreasing the number of bins.' % jj)\n",
      "C:\\Users\\Tim Buckley\\Documents\\Anaconda3\\lib\\site-packages\\sklearn\\preprocessing\\_discretization.py:193: UserWarning: Bins whose width are too small (i.e., <= 1e-8) in feature 96 are removed. Consider decreasing the number of bins.\n",
      "  'decreasing the number of bins.' % jj)\n",
      "C:\\Users\\Tim Buckley\\Documents\\Anaconda3\\lib\\site-packages\\sklearn\\preprocessing\\_discretization.py:193: UserWarning: Bins whose width are too small (i.e., <= 1e-8) in feature 97 are removed. Consider decreasing the number of bins.\n",
      "  'decreasing the number of bins.' % jj)\n",
      "C:\\Users\\Tim Buckley\\Documents\\Anaconda3\\lib\\site-packages\\sklearn\\preprocessing\\_discretization.py:193: UserWarning: Bins whose width are too small (i.e., <= 1e-8) in feature 98 are removed. Consider decreasing the number of bins.\n",
      "  'decreasing the number of bins.' % jj)\n",
      "C:\\Users\\Tim Buckley\\Documents\\Anaconda3\\lib\\site-packages\\sklearn\\preprocessing\\_discretization.py:193: UserWarning: Bins whose width are too small (i.e., <= 1e-8) in feature 99 are removed. Consider decreasing the number of bins.\n",
      "  'decreasing the number of bins.' % jj)\n",
      "C:\\Users\\Tim Buckley\\Documents\\Anaconda3\\lib\\site-packages\\sklearn\\preprocessing\\_discretization.py:193: UserWarning: Bins whose width are too small (i.e., <= 1e-8) in feature 100 are removed. Consider decreasing the number of bins.\n",
      "  'decreasing the number of bins.' % jj)\n",
      "C:\\Users\\Tim Buckley\\Documents\\Anaconda3\\lib\\site-packages\\sklearn\\preprocessing\\_discretization.py:193: UserWarning: Bins whose width are too small (i.e., <= 1e-8) in feature 101 are removed. Consider decreasing the number of bins.\n",
      "  'decreasing the number of bins.' % jj)\n",
      "C:\\Users\\Tim Buckley\\Documents\\Anaconda3\\lib\\site-packages\\sklearn\\preprocessing\\_discretization.py:193: UserWarning: Bins whose width are too small (i.e., <= 1e-8) in feature 102 are removed. Consider decreasing the number of bins.\n",
      "  'decreasing the number of bins.' % jj)\n",
      "C:\\Users\\Tim Buckley\\Documents\\Anaconda3\\lib\\site-packages\\sklearn\\preprocessing\\_discretization.py:193: UserWarning: Bins whose width are too small (i.e., <= 1e-8) in feature 103 are removed. Consider decreasing the number of bins.\n",
      "  'decreasing the number of bins.' % jj)\n",
      "C:\\Users\\Tim Buckley\\Documents\\Anaconda3\\lib\\site-packages\\sklearn\\preprocessing\\_discretization.py:193: UserWarning: Bins whose width are too small (i.e., <= 1e-8) in feature 104 are removed. Consider decreasing the number of bins.\n",
      "  'decreasing the number of bins.' % jj)\n",
      "C:\\Users\\Tim Buckley\\Documents\\Anaconda3\\lib\\site-packages\\sklearn\\preprocessing\\_discretization.py:193: UserWarning: Bins whose width are too small (i.e., <= 1e-8) in feature 105 are removed. Consider decreasing the number of bins.\n",
      "  'decreasing the number of bins.' % jj)\n",
      "C:\\Users\\Tim Buckley\\Documents\\Anaconda3\\lib\\site-packages\\sklearn\\preprocessing\\_discretization.py:193: UserWarning: Bins whose width are too small (i.e., <= 1e-8) in feature 106 are removed. Consider decreasing the number of bins.\n",
      "  'decreasing the number of bins.' % jj)\n",
      "C:\\Users\\Tim Buckley\\Documents\\Anaconda3\\lib\\site-packages\\sklearn\\preprocessing\\_discretization.py:193: UserWarning: Bins whose width are too small (i.e., <= 1e-8) in feature 107 are removed. Consider decreasing the number of bins.\n",
      "  'decreasing the number of bins.' % jj)\n",
      "C:\\Users\\Tim Buckley\\Documents\\Anaconda3\\lib\\site-packages\\sklearn\\preprocessing\\_discretization.py:193: UserWarning: Bins whose width are too small (i.e., <= 1e-8) in feature 108 are removed. Consider decreasing the number of bins.\n",
      "  'decreasing the number of bins.' % jj)\n",
      "C:\\Users\\Tim Buckley\\Documents\\Anaconda3\\lib\\site-packages\\sklearn\\preprocessing\\_discretization.py:193: UserWarning: Bins whose width are too small (i.e., <= 1e-8) in feature 109 are removed. Consider decreasing the number of bins.\n",
      "  'decreasing the number of bins.' % jj)\n",
      "C:\\Users\\Tim Buckley\\Documents\\Anaconda3\\lib\\site-packages\\sklearn\\preprocessing\\_discretization.py:193: UserWarning: Bins whose width are too small (i.e., <= 1e-8) in feature 110 are removed. Consider decreasing the number of bins.\n",
      "  'decreasing the number of bins.' % jj)\n",
      "C:\\Users\\Tim Buckley\\Documents\\Anaconda3\\lib\\site-packages\\sklearn\\preprocessing\\_discretization.py:193: UserWarning: Bins whose width are too small (i.e., <= 1e-8) in feature 112 are removed. Consider decreasing the number of bins.\n",
      "  'decreasing the number of bins.' % jj)\n",
      "C:\\Users\\Tim Buckley\\Documents\\Anaconda3\\lib\\site-packages\\sklearn\\preprocessing\\_discretization.py:193: UserWarning: Bins whose width are too small (i.e., <= 1e-8) in feature 113 are removed. Consider decreasing the number of bins.\n",
      "  'decreasing the number of bins.' % jj)\n",
      "C:\\Users\\Tim Buckley\\Documents\\Anaconda3\\lib\\site-packages\\sklearn\\preprocessing\\_discretization.py:193: UserWarning: Bins whose width are too small (i.e., <= 1e-8) in feature 114 are removed. Consider decreasing the number of bins.\n",
      "  'decreasing the number of bins.' % jj)\n"
     ]
    }
   ],
   "source": [
    "bins = KBinsDiscretizer(n_bins=100, encode='ordinal')\n",
    "for col in combineFloat:\n",
    "    median = combineFloat[col].median()\n",
    "    combineFloat[col].fillna(median, inplace = True)\n",
    "    combineFloat.loc[combineFloat[col] == np.NaN, col] = median\n",
    "binnedFloatsArray = bins.fit_transform(combineFloat)\n",
    "binnedFloats = pd.DataFrame(binnedFloatsArray, columns=combineFloat.columns)"
   ]
  },
  {
   "cell_type": "code",
   "execution_count": 6,
   "metadata": {},
   "outputs": [],
   "source": [
    "from sklearn.model_selection import train_test_split\n",
    "from sklearn.ensemble import RandomForestClassifier\n",
    "from sklearn import metrics\n",
    "from sklearn.feature_selection import SelectPercentile, chi2\n",
    "from sklearn.svm import SVC"
   ]
  },
  {
   "cell_type": "code",
   "execution_count": 77,
   "metadata": {},
   "outputs": [],
   "source": [
    "submit = pd.read_csv('sample_submission.csv');\n",
    "\n",
    "binnedFloats['fund_id'] = fundIdTag['fund_id']\n",
    "binnedFloats['greatstone_rating'] = fundIdTag['greatstone_rating']\n",
    "train = binnedFloats.dropna()\n",
    "X = train.drop(['greatstone_rating', 'fund_id'], axis = 1)\n",
    "Y = train['greatstone_rating']\n",
    "\n",
    "x_train, x_test, y_train, y_test = train_test_split(X, Y, test_size=0.1, random_state=1)"
   ]
  },
  {
   "cell_type": "code",
   "execution_count": 78,
   "metadata": {},
   "outputs": [
    {
     "name": "stdout",
     "output_type": "stream",
     "text": [
      "Classification: \n",
      "               precision    recall  f1-score   support\n",
      "\n",
      "         0.0       0.99      0.99      0.99       146\n",
      "         1.0       0.82      0.69      0.75       133\n",
      "         2.0       0.77      0.77      0.77       408\n",
      "         3.0       0.78      0.85      0.81       676\n",
      "         4.0       0.80      0.78      0.79       475\n",
      "         5.0       0.84      0.72      0.77       162\n",
      "\n",
      "    accuracy                           0.81      2000\n",
      "   macro avg       0.83      0.80      0.82      2000\n",
      "weighted avg       0.81      0.81      0.80      2000\n",
      "\n"
     ]
    }
   ],
   "source": [
    "rfcl = RandomForestClassifier(n_estimators = 100, n_jobs=2, random_state = 37, criterion='entropy')\n",
    "rfcl = rfcl.fit(x_train, y_train)\n",
    "y_predict0 = rfcl.predict(x_test)\n",
    "print('Classification: \\n', metrics.classification_report(y_test, y_predict0))"
   ]
  },
  {
   "cell_type": "code",
   "execution_count": 83,
   "metadata": {},
   "outputs": [
    {
     "name": "stdout",
     "output_type": "stream",
     "text": [
      "Classification: \n",
      "               precision    recall  f1-score   support\n",
      "\n",
      "         0.0       1.00      0.10      0.19       146\n",
      "         1.0       1.00      0.01      0.01       133\n",
      "         2.0       0.88      0.02      0.03       408\n",
      "         3.0       0.34      1.00      0.51       676\n",
      "         4.0       1.00      0.03      0.06       475\n",
      "         5.0       1.00      0.01      0.01       162\n",
      "\n",
      "    accuracy                           0.36      2000\n",
      "   macro avg       0.87      0.19      0.14      2000\n",
      "weighted avg       0.75      0.36      0.21      2000\n",
      "\n"
     ]
    }
   ],
   "source": [
    "clf = SVC(gamma=0.1)\n",
    "clf.fit(x_train, y_train)\n",
    "y_predict = clf.predict(x_test).astype('int')\n",
    "print('Classification: \\n', metrics.classification_report(y_test, y_predict))"
   ]
  },
  {
   "cell_type": "code",
   "execution_count": 89,
   "metadata": {},
   "outputs": [
    {
     "name": "stdout",
     "output_type": "stream",
     "text": [
      "\n",
      "Gamma:  0.05\n",
      "Classification: \n",
      "               precision    recall  f1-score   support\n",
      "\n",
      "         0.0       1.00      0.13      0.23       146\n",
      "         1.0       1.00      0.02      0.03       133\n",
      "         2.0       0.93      0.03      0.06       408\n",
      "         3.0       0.35      1.00      0.52       676\n",
      "         4.0       0.97      0.07      0.14       475\n",
      "         5.0       1.00      0.02      0.05       162\n",
      "\n",
      "    accuracy                           0.37      2000\n",
      "   macro avg       0.88      0.21      0.17      2000\n",
      "weighted avg       0.76      0.37      0.24      2000\n",
      "\n",
      "\n",
      "Gamma:  0.06\n",
      "Classification: \n",
      "               precision    recall  f1-score   support\n",
      "\n",
      "         0.0       1.00      0.12      0.21       146\n",
      "         1.0       1.00      0.01      0.01       133\n",
      "         2.0       0.92      0.03      0.06       408\n",
      "         3.0       0.35      1.00      0.52       676\n",
      "         4.0       0.97      0.07      0.12       475\n",
      "         5.0       1.00      0.02      0.04       162\n",
      "\n",
      "    accuracy                           0.37      2000\n",
      "   macro avg       0.87      0.21      0.16      2000\n",
      "weighted avg       0.76      0.37      0.23      2000\n",
      "\n",
      "\n",
      "Gamma:  0.07\n",
      "Classification: \n",
      "               precision    recall  f1-score   support\n",
      "\n",
      "         0.0       1.00      0.11      0.20       146\n",
      "         1.0       1.00      0.01      0.01       133\n",
      "         2.0       0.92      0.03      0.06       408\n",
      "         3.0       0.35      1.00      0.52       676\n",
      "         4.0       1.00      0.06      0.11       475\n",
      "         5.0       1.00      0.02      0.04       162\n",
      "\n",
      "    accuracy                           0.37      2000\n",
      "   macro avg       0.88      0.20      0.15      2000\n",
      "weighted avg       0.76      0.37      0.23      2000\n",
      "\n",
      "\n",
      "Gamma:  0.08\n",
      "Classification: \n",
      "               precision    recall  f1-score   support\n",
      "\n",
      "         0.0       1.00      0.10      0.19       146\n",
      "         1.0       1.00      0.01      0.01       133\n",
      "         2.0       0.91      0.02      0.05       408\n",
      "         3.0       0.35      1.00      0.51       676\n",
      "         4.0       1.00      0.05      0.10       475\n",
      "         5.0       1.00      0.01      0.02       162\n",
      "\n",
      "    accuracy                           0.36      2000\n",
      "   macro avg       0.88      0.20      0.15      2000\n",
      "weighted avg       0.76      0.36      0.22      2000\n",
      "\n",
      "\n",
      "Gamma:  0.09\n",
      "Classification: \n",
      "               precision    recall  f1-score   support\n",
      "\n",
      "         0.0       1.00      0.10      0.19       146\n",
      "         1.0       1.00      0.01      0.01       133\n",
      "         2.0       0.90      0.02      0.04       408\n",
      "         3.0       0.35      1.00      0.51       676\n",
      "         4.0       1.00      0.04      0.07       475\n",
      "         5.0       1.00      0.01      0.02       162\n",
      "\n",
      "    accuracy                           0.36      2000\n",
      "   macro avg       0.87      0.20      0.14      2000\n",
      "weighted avg       0.76      0.36      0.22      2000\n",
      "\n",
      "\n",
      "Gamma:  0.1\n",
      "Classification: \n",
      "               precision    recall  f1-score   support\n",
      "\n",
      "         0.0       1.00      0.10      0.19       146\n",
      "         1.0       1.00      0.01      0.01       133\n",
      "         2.0       0.88      0.02      0.03       408\n",
      "         3.0       0.34      1.00      0.51       676\n",
      "         4.0       1.00      0.03      0.06       475\n",
      "         5.0       1.00      0.01      0.01       162\n",
      "\n",
      "    accuracy                           0.36      2000\n",
      "   macro avg       0.87      0.19      0.14      2000\n",
      "weighted avg       0.75      0.36      0.21      2000\n",
      "\n",
      "\n",
      "Gamma:  0.11\n",
      "Classification: \n",
      "               precision    recall  f1-score   support\n",
      "\n",
      "         0.0       1.00      0.09      0.16       146\n",
      "         1.0       1.00      0.01      0.01       133\n",
      "         2.0       0.88      0.02      0.03       408\n",
      "         3.0       0.34      1.00      0.51       676\n",
      "         4.0       1.00      0.02      0.05       475\n",
      "         5.0       1.00      0.01      0.01       162\n",
      "\n",
      "    accuracy                           0.35      2000\n",
      "   macro avg       0.87      0.19      0.13      2000\n",
      "weighted avg       0.75      0.35      0.20      2000\n",
      "\n",
      "\n",
      "Gamma:  0.12\n"
     ]
    },
    {
     "name": "stderr",
     "output_type": "stream",
     "text": [
      "C:\\Users\\Tim Buckley\\Documents\\Anaconda3\\lib\\site-packages\\sklearn\\metrics\\classification.py:1437: UndefinedMetricWarning: Precision and F-score are ill-defined and being set to 0.0 in labels with no predicted samples.\n",
      "  'precision', 'predicted', average, warn_for)\n"
     ]
    },
    {
     "name": "stdout",
     "output_type": "stream",
     "text": [
      "Classification: \n",
      "               precision    recall  f1-score   support\n",
      "\n",
      "         0.0       1.00      0.07      0.13       146\n",
      "         1.0       0.00      0.00      0.00       133\n",
      "         2.0       0.88      0.02      0.03       408\n",
      "         3.0       0.34      1.00      0.51       676\n",
      "         4.0       1.00      0.02      0.04       475\n",
      "         5.0       1.00      0.01      0.01       162\n",
      "\n",
      "    accuracy                           0.35      2000\n",
      "   macro avg       0.70      0.18      0.12      2000\n",
      "weighted avg       0.69      0.35      0.20      2000\n",
      "\n",
      "\n",
      "Gamma:  0.13\n"
     ]
    },
    {
     "name": "stderr",
     "output_type": "stream",
     "text": [
      "C:\\Users\\Tim Buckley\\Documents\\Anaconda3\\lib\\site-packages\\sklearn\\metrics\\classification.py:1437: UndefinedMetricWarning: Precision and F-score are ill-defined and being set to 0.0 in labels with no predicted samples.\n",
      "  'precision', 'predicted', average, warn_for)\n"
     ]
    },
    {
     "name": "stdout",
     "output_type": "stream",
     "text": [
      "Classification: \n",
      "               precision    recall  f1-score   support\n",
      "\n",
      "         0.0       1.00      0.06      0.12       146\n",
      "         1.0       0.00      0.00      0.00       133\n",
      "         2.0       0.86      0.01      0.03       408\n",
      "         3.0       0.34      1.00      0.51       676\n",
      "         4.0       1.00      0.02      0.03       475\n",
      "         5.0       1.00      0.01      0.01       162\n",
      "\n",
      "    accuracy                           0.35      2000\n",
      "   macro avg       0.70      0.18      0.12      2000\n",
      "weighted avg       0.68      0.35      0.20      2000\n",
      "\n",
      "\n",
      "Gamma:  0.14\n"
     ]
    },
    {
     "name": "stderr",
     "output_type": "stream",
     "text": [
      "C:\\Users\\Tim Buckley\\Documents\\Anaconda3\\lib\\site-packages\\sklearn\\metrics\\classification.py:1437: UndefinedMetricWarning: Precision and F-score are ill-defined and being set to 0.0 in labels with no predicted samples.\n",
      "  'precision', 'predicted', average, warn_for)\n"
     ]
    },
    {
     "name": "stdout",
     "output_type": "stream",
     "text": [
      "Classification: \n",
      "               precision    recall  f1-score   support\n",
      "\n",
      "         0.0       1.00      0.06      0.12       146\n",
      "         1.0       0.00      0.00      0.00       133\n",
      "         2.0       1.00      0.01      0.03       408\n",
      "         3.0       0.34      1.00      0.51       676\n",
      "         4.0       1.00      0.01      0.03       475\n",
      "         5.0       1.00      0.01      0.01       162\n",
      "\n",
      "    accuracy                           0.35      2000\n",
      "   macro avg       0.72      0.18      0.12      2000\n",
      "weighted avg       0.71      0.35      0.19      2000\n",
      "\n",
      "\n",
      "Gamma:  0.15\n"
     ]
    },
    {
     "name": "stderr",
     "output_type": "stream",
     "text": [
      "C:\\Users\\Tim Buckley\\Documents\\Anaconda3\\lib\\site-packages\\sklearn\\metrics\\classification.py:1437: UndefinedMetricWarning: Precision and F-score are ill-defined and being set to 0.0 in labels with no predicted samples.\n",
      "  'precision', 'predicted', average, warn_for)\n"
     ]
    },
    {
     "name": "stdout",
     "output_type": "stream",
     "text": [
      "Classification: \n",
      "               precision    recall  f1-score   support\n",
      "\n",
      "         0.0       1.00      0.06      0.12       146\n",
      "         1.0       0.00      0.00      0.00       133\n",
      "         2.0       1.00      0.01      0.02       408\n",
      "         3.0       0.34      1.00      0.51       676\n",
      "         4.0       1.00      0.01      0.02       475\n",
      "         5.0       1.00      0.01      0.01       162\n",
      "\n",
      "    accuracy                           0.35      2000\n",
      "   macro avg       0.72      0.18      0.11      2000\n",
      "weighted avg       0.71      0.35      0.19      2000\n",
      "\n",
      "\n",
      "Gamma:  0.16\n"
     ]
    },
    {
     "name": "stderr",
     "output_type": "stream",
     "text": [
      "C:\\Users\\Tim Buckley\\Documents\\Anaconda3\\lib\\site-packages\\sklearn\\metrics\\classification.py:1437: UndefinedMetricWarning: Precision and F-score are ill-defined and being set to 0.0 in labels with no predicted samples.\n",
      "  'precision', 'predicted', average, warn_for)\n"
     ]
    },
    {
     "name": "stdout",
     "output_type": "stream",
     "text": [
      "Classification: \n",
      "               precision    recall  f1-score   support\n",
      "\n",
      "         0.0       1.00      0.06      0.12       146\n",
      "         1.0       0.00      0.00      0.00       133\n",
      "         2.0       1.00      0.01      0.02       408\n",
      "         3.0       0.34      1.00      0.51       676\n",
      "         4.0       1.00      0.01      0.02       475\n",
      "         5.0       1.00      0.01      0.01       162\n",
      "\n",
      "    accuracy                           0.35      2000\n",
      "   macro avg       0.72      0.18      0.11      2000\n",
      "weighted avg       0.71      0.35      0.19      2000\n",
      "\n",
      "\n",
      "Gamma:  0.17\n"
     ]
    },
    {
     "name": "stderr",
     "output_type": "stream",
     "text": [
      "C:\\Users\\Tim Buckley\\Documents\\Anaconda3\\lib\\site-packages\\sklearn\\metrics\\classification.py:1437: UndefinedMetricWarning: Precision and F-score are ill-defined and being set to 0.0 in labels with no predicted samples.\n",
      "  'precision', 'predicted', average, warn_for)\n"
     ]
    },
    {
     "name": "stdout",
     "output_type": "stream",
     "text": [
      "Classification: \n",
      "               precision    recall  f1-score   support\n",
      "\n",
      "         0.0       1.00      0.05      0.10       146\n",
      "         1.0       0.00      0.00      0.00       133\n",
      "         2.0       1.00      0.01      0.02       408\n",
      "         3.0       0.34      1.00      0.51       676\n",
      "         4.0       1.00      0.01      0.02       475\n",
      "         5.0       1.00      0.01      0.01       162\n",
      "\n",
      "    accuracy                           0.35      2000\n",
      "   macro avg       0.72      0.18      0.11      2000\n",
      "weighted avg       0.71      0.35      0.19      2000\n",
      "\n",
      "\n",
      "Gamma:  0.18\n"
     ]
    },
    {
     "name": "stderr",
     "output_type": "stream",
     "text": [
      "C:\\Users\\Tim Buckley\\Documents\\Anaconda3\\lib\\site-packages\\sklearn\\metrics\\classification.py:1437: UndefinedMetricWarning: Precision and F-score are ill-defined and being set to 0.0 in labels with no predicted samples.\n",
      "  'precision', 'predicted', average, warn_for)\n"
     ]
    },
    {
     "name": "stdout",
     "output_type": "stream",
     "text": [
      "Classification: \n",
      "               precision    recall  f1-score   support\n",
      "\n",
      "         0.0       1.00      0.05      0.10       146\n",
      "         1.0       0.00      0.00      0.00       133\n",
      "         2.0       1.00      0.01      0.02       408\n",
      "         3.0       0.34      1.00      0.51       676\n",
      "         4.0       1.00      0.01      0.02       475\n",
      "         5.0       1.00      0.01      0.01       162\n",
      "\n",
      "    accuracy                           0.35      2000\n",
      "   macro avg       0.72      0.18      0.11      2000\n",
      "weighted avg       0.71      0.35      0.19      2000\n",
      "\n",
      "\n",
      "Gamma:  0.19\n"
     ]
    },
    {
     "name": "stderr",
     "output_type": "stream",
     "text": [
      "C:\\Users\\Tim Buckley\\Documents\\Anaconda3\\lib\\site-packages\\sklearn\\metrics\\classification.py:1437: UndefinedMetricWarning: Precision and F-score are ill-defined and being set to 0.0 in labels with no predicted samples.\n",
      "  'precision', 'predicted', average, warn_for)\n"
     ]
    },
    {
     "name": "stdout",
     "output_type": "stream",
     "text": [
      "Classification: \n",
      "               precision    recall  f1-score   support\n",
      "\n",
      "         0.0       1.00      0.05      0.10       146\n",
      "         1.0       0.00      0.00      0.00       133\n",
      "         2.0       1.00      0.01      0.02       408\n",
      "         3.0       0.34      1.00      0.51       676\n",
      "         4.0       1.00      0.01      0.02       475\n",
      "         5.0       1.00      0.01      0.01       162\n",
      "\n",
      "    accuracy                           0.35      2000\n",
      "   macro avg       0.72      0.18      0.11      2000\n",
      "weighted avg       0.71      0.35      0.19      2000\n",
      "\n",
      "\n",
      "Gamma:  0.2\n"
     ]
    },
    {
     "name": "stderr",
     "output_type": "stream",
     "text": [
      "C:\\Users\\Tim Buckley\\Documents\\Anaconda3\\lib\\site-packages\\sklearn\\metrics\\classification.py:1437: UndefinedMetricWarning: Precision and F-score are ill-defined and being set to 0.0 in labels with no predicted samples.\n",
      "  'precision', 'predicted', average, warn_for)\n"
     ]
    },
    {
     "name": "stdout",
     "output_type": "stream",
     "text": [
      "Classification: \n",
      "               precision    recall  f1-score   support\n",
      "\n",
      "         0.0       1.00      0.05      0.10       146\n",
      "         1.0       0.00      0.00      0.00       133\n",
      "         2.0       0.00      0.00      0.00       408\n",
      "         3.0       0.34      1.00      0.51       676\n",
      "         4.0       1.00      0.01      0.01       475\n",
      "         5.0       1.00      0.01      0.01       162\n",
      "\n",
      "    accuracy                           0.34      2000\n",
      "   macro avg       0.56      0.18      0.11      2000\n",
      "weighted avg       0.51      0.34      0.18      2000\n",
      "\n",
      "\n",
      "Gamma:  0.21\n"
     ]
    },
    {
     "name": "stderr",
     "output_type": "stream",
     "text": [
      "C:\\Users\\Tim Buckley\\Documents\\Anaconda3\\lib\\site-packages\\sklearn\\metrics\\classification.py:1437: UndefinedMetricWarning: Precision and F-score are ill-defined and being set to 0.0 in labels with no predicted samples.\n",
      "  'precision', 'predicted', average, warn_for)\n"
     ]
    },
    {
     "name": "stdout",
     "output_type": "stream",
     "text": [
      "Classification: \n",
      "               precision    recall  f1-score   support\n",
      "\n",
      "         0.0       1.00      0.05      0.10       146\n",
      "         1.0       0.00      0.00      0.00       133\n",
      "         2.0       0.00      0.00      0.00       408\n",
      "         3.0       0.34      1.00      0.51       676\n",
      "         4.0       1.00      0.01      0.01       475\n",
      "         5.0       1.00      0.01      0.01       162\n",
      "\n",
      "    accuracy                           0.34      2000\n",
      "   macro avg       0.56      0.18      0.11      2000\n",
      "weighted avg       0.51      0.34      0.18      2000\n",
      "\n",
      "\n",
      "Gamma:  0.22\n"
     ]
    },
    {
     "name": "stderr",
     "output_type": "stream",
     "text": [
      "C:\\Users\\Tim Buckley\\Documents\\Anaconda3\\lib\\site-packages\\sklearn\\metrics\\classification.py:1437: UndefinedMetricWarning: Precision and F-score are ill-defined and being set to 0.0 in labels with no predicted samples.\n",
      "  'precision', 'predicted', average, warn_for)\n"
     ]
    },
    {
     "name": "stdout",
     "output_type": "stream",
     "text": [
      "Classification: \n",
      "               precision    recall  f1-score   support\n",
      "\n",
      "         0.0       1.00      0.05      0.10       146\n",
      "         1.0       0.00      0.00      0.00       133\n",
      "         2.0       0.00      0.00      0.00       408\n",
      "         3.0       0.34      1.00      0.51       676\n",
      "         4.0       1.00      0.01      0.01       475\n",
      "         5.0       1.00      0.01      0.01       162\n",
      "\n",
      "    accuracy                           0.34      2000\n",
      "   macro avg       0.56      0.18      0.11      2000\n",
      "weighted avg       0.51      0.34      0.18      2000\n",
      "\n",
      "\n",
      "Gamma:  0.23\n"
     ]
    },
    {
     "name": "stderr",
     "output_type": "stream",
     "text": [
      "C:\\Users\\Tim Buckley\\Documents\\Anaconda3\\lib\\site-packages\\sklearn\\metrics\\classification.py:1437: UndefinedMetricWarning: Precision and F-score are ill-defined and being set to 0.0 in labels with no predicted samples.\n",
      "  'precision', 'predicted', average, warn_for)\n"
     ]
    },
    {
     "name": "stdout",
     "output_type": "stream",
     "text": [
      "Classification: \n",
      "               precision    recall  f1-score   support\n",
      "\n",
      "         0.0       1.00      0.04      0.08       146\n",
      "         1.0       0.00      0.00      0.00       133\n",
      "         2.0       0.00      0.00      0.00       408\n",
      "         3.0       0.34      1.00      0.51       676\n",
      "         4.0       1.00      0.00      0.01       475\n",
      "         5.0       1.00      0.01      0.01       162\n",
      "\n",
      "    accuracy                           0.34      2000\n",
      "   macro avg       0.56      0.18      0.10      2000\n",
      "weighted avg       0.51      0.34      0.18      2000\n",
      "\n",
      "\n",
      "Gamma:  0.24\n"
     ]
    },
    {
     "name": "stderr",
     "output_type": "stream",
     "text": [
      "C:\\Users\\Tim Buckley\\Documents\\Anaconda3\\lib\\site-packages\\sklearn\\metrics\\classification.py:1437: UndefinedMetricWarning: Precision and F-score are ill-defined and being set to 0.0 in labels with no predicted samples.\n",
      "  'precision', 'predicted', average, warn_for)\n"
     ]
    },
    {
     "name": "stdout",
     "output_type": "stream",
     "text": [
      "Classification: \n",
      "               precision    recall  f1-score   support\n",
      "\n",
      "         0.0       1.00      0.04      0.08       146\n",
      "         1.0       0.00      0.00      0.00       133\n",
      "         2.0       0.00      0.00      0.00       408\n",
      "         3.0       0.34      1.00      0.51       676\n",
      "         4.0       1.00      0.00      0.01       475\n",
      "         5.0       1.00      0.01      0.01       162\n",
      "\n",
      "    accuracy                           0.34      2000\n",
      "   macro avg       0.56      0.18      0.10      2000\n",
      "weighted avg       0.51      0.34      0.18      2000\n",
      "\n",
      "\n",
      "Gamma:  0.25\n"
     ]
    },
    {
     "name": "stderr",
     "output_type": "stream",
     "text": [
      "C:\\Users\\Tim Buckley\\Documents\\Anaconda3\\lib\\site-packages\\sklearn\\metrics\\classification.py:1437: UndefinedMetricWarning: Precision and F-score are ill-defined and being set to 0.0 in labels with no predicted samples.\n",
      "  'precision', 'predicted', average, warn_for)\n"
     ]
    },
    {
     "name": "stdout",
     "output_type": "stream",
     "text": [
      "Classification: \n",
      "               precision    recall  f1-score   support\n",
      "\n",
      "         0.0       1.00      0.04      0.08       146\n",
      "         1.0       0.00      0.00      0.00       133\n",
      "         2.0       0.00      0.00      0.00       408\n",
      "         3.0       0.34      1.00      0.51       676\n",
      "         4.0       1.00      0.00      0.01       475\n",
      "         5.0       1.00      0.01      0.01       162\n",
      "\n",
      "    accuracy                           0.34      2000\n",
      "   macro avg       0.56      0.18      0.10      2000\n",
      "weighted avg       0.51      0.34      0.18      2000\n",
      "\n",
      "\n",
      "Gamma:  0.26\n"
     ]
    },
    {
     "name": "stderr",
     "output_type": "stream",
     "text": [
      "C:\\Users\\Tim Buckley\\Documents\\Anaconda3\\lib\\site-packages\\sklearn\\metrics\\classification.py:1437: UndefinedMetricWarning: Precision and F-score are ill-defined and being set to 0.0 in labels with no predicted samples.\n",
      "  'precision', 'predicted', average, warn_for)\n"
     ]
    },
    {
     "name": "stdout",
     "output_type": "stream",
     "text": [
      "Classification: \n",
      "               precision    recall  f1-score   support\n",
      "\n",
      "         0.0       1.00      0.04      0.08       146\n",
      "         1.0       0.00      0.00      0.00       133\n",
      "         2.0       0.00      0.00      0.00       408\n",
      "         3.0       0.34      1.00      0.51       676\n",
      "         4.0       1.00      0.00      0.01       475\n",
      "         5.0       1.00      0.01      0.01       162\n",
      "\n",
      "    accuracy                           0.34      2000\n",
      "   macro avg       0.56      0.18      0.10      2000\n",
      "weighted avg       0.51      0.34      0.18      2000\n",
      "\n",
      "\n",
      "Gamma:  0.27\n"
     ]
    },
    {
     "name": "stderr",
     "output_type": "stream",
     "text": [
      "C:\\Users\\Tim Buckley\\Documents\\Anaconda3\\lib\\site-packages\\sklearn\\metrics\\classification.py:1437: UndefinedMetricWarning: Precision and F-score are ill-defined and being set to 0.0 in labels with no predicted samples.\n",
      "  'precision', 'predicted', average, warn_for)\n"
     ]
    },
    {
     "name": "stdout",
     "output_type": "stream",
     "text": [
      "Classification: \n",
      "               precision    recall  f1-score   support\n",
      "\n",
      "         0.0       1.00      0.04      0.08       146\n",
      "         1.0       0.00      0.00      0.00       133\n",
      "         2.0       0.00      0.00      0.00       408\n",
      "         3.0       0.34      1.00      0.51       676\n",
      "         4.0       1.00      0.00      0.01       475\n",
      "         5.0       1.00      0.01      0.01       162\n",
      "\n",
      "    accuracy                           0.34      2000\n",
      "   macro avg       0.56      0.18      0.10      2000\n",
      "weighted avg       0.51      0.34      0.18      2000\n",
      "\n",
      "\n",
      "Gamma:  0.28\n"
     ]
    },
    {
     "name": "stderr",
     "output_type": "stream",
     "text": [
      "C:\\Users\\Tim Buckley\\Documents\\Anaconda3\\lib\\site-packages\\sklearn\\metrics\\classification.py:1437: UndefinedMetricWarning: Precision and F-score are ill-defined and being set to 0.0 in labels with no predicted samples.\n",
      "  'precision', 'predicted', average, warn_for)\n"
     ]
    },
    {
     "name": "stdout",
     "output_type": "stream",
     "text": [
      "Classification: \n",
      "               precision    recall  f1-score   support\n",
      "\n",
      "         0.0       1.00      0.04      0.08       146\n",
      "         1.0       0.00      0.00      0.00       133\n",
      "         2.0       0.00      0.00      0.00       408\n",
      "         3.0       0.34      1.00      0.51       676\n",
      "         4.0       1.00      0.00      0.01       475\n",
      "         5.0       0.00      0.00      0.00       162\n",
      "\n",
      "    accuracy                           0.34      2000\n",
      "   macro avg       0.39      0.17      0.10      2000\n",
      "weighted avg       0.43      0.34      0.18      2000\n",
      "\n",
      "\n",
      "Gamma:  0.29\n",
      "Classification: \n",
      "               precision    recall  f1-score   support\n",
      "\n",
      "         0.0       1.00      0.04      0.08       146\n",
      "         1.0       0.00      0.00      0.00       133\n",
      "         2.0       0.00      0.00      0.00       408\n",
      "         3.0       0.34      1.00      0.51       676\n",
      "         4.0       1.00      0.00      0.01       475\n",
      "         5.0       0.00      0.00      0.00       162\n",
      "\n",
      "    accuracy                           0.34      2000\n",
      "   macro avg       0.39      0.17      0.10      2000\n",
      "weighted avg       0.43      0.34      0.18      2000\n",
      "\n"
     ]
    },
    {
     "name": "stderr",
     "output_type": "stream",
     "text": [
      "C:\\Users\\Tim Buckley\\Documents\\Anaconda3\\lib\\site-packages\\sklearn\\metrics\\classification.py:1437: UndefinedMetricWarning: Precision and F-score are ill-defined and being set to 0.0 in labels with no predicted samples.\n",
      "  'precision', 'predicted', average, warn_for)\n"
     ]
    }
   ],
   "source": [
    "for i in range(5,30):\n",
    "    print(\"\\nGamma: \", i/100)\n",
    "    clf = SVC(gamma=i/100)\n",
    "    clf.fit(x_train, y_train)\n",
    "    y_predict = clf.predict(x_test).astype('int')\n",
    "    print('Classification: \\n', metrics.classification_report(y_test, y_predict))"
   ]
  },
  {
   "cell_type": "code",
   "execution_count": 82,
   "metadata": {},
   "outputs": [
    {
     "name": "stdout",
     "output_type": "stream",
     "text": [
      "Classification: \n",
      "               precision    recall  f1-score   support\n",
      "\n",
      "         0.0       0.99      0.99      0.99       146\n",
      "         1.0       0.00      0.00      0.00       133\n",
      "         2.0       1.00      0.01      0.02       408\n",
      "         3.0       0.37      1.00      0.54       676\n",
      "         4.0       1.00      0.01      0.02       475\n",
      "         5.0       1.00      0.01      0.01       162\n",
      "\n",
      "    accuracy                           0.42      2000\n",
      "   macro avg       0.73      0.34      0.26      2000\n",
      "weighted avg       0.72      0.42      0.26      2000\n",
      "\n"
     ]
    }
   ],
   "source": [
    "temp = y_predict\n",
    "temp[y_predict0 == 0] = 0\n",
    "\n",
    "print('Classification: \\n', metrics.classification_report(y_test, temp))"
   ]
  },
  {
   "cell_type": "code",
   "execution_count": 76,
   "metadata": {},
   "outputs": [
    {
     "name": "stdout",
     "output_type": "stream",
     "text": [
      "Classification: \n",
      "               precision    recall  f1-score   support\n",
      "\n",
      "         0.0       1.00      0.98      0.99       285\n",
      "         1.0       1.00      0.07      0.12       259\n",
      "         2.0       1.00      0.01      0.03       848\n",
      "         3.0       0.37      1.00      0.54      1375\n",
      "         4.0       1.00      0.02      0.03       914\n",
      "         5.0       1.00      0.01      0.02       319\n",
      "\n",
      "    accuracy                           0.42      4000\n",
      "   macro avg       0.90      0.35      0.29      4000\n",
      "weighted avg       0.78      0.42      0.28      4000\n",
      "\n"
     ]
    }
   ],
   "source": [
    "predictions = pd.DataFrame()\n",
    "predictions['temp'] = temp\n",
    "predictions.loc[predictions.query('temp == 5').sample(frac=.9).index, 'temp'] = 3\n",
    "predictions.loc[predictions.query('temp == 4').sample(frac=.9).index, 'temp'] = 3\n",
    "predictions.loc[predictions.query('temp == 2').sample(frac=.9).index, 'temp'] = 3\n",
    "\n",
    "print('Classification: \\n', metrics.classification_report(y_test, predictions['temp']))"
   ]
  },
  {
   "cell_type": "markdown",
   "metadata": {},
   "source": [
    "# Final"
   ]
  },
  {
   "cell_type": "code",
   "execution_count": 7,
   "metadata": {},
   "outputs": [],
   "source": [
    "ind = 1"
   ]
  },
  {
   "cell_type": "code",
   "execution_count": 9,
   "metadata": {},
   "outputs": [
    {
     "name": "stdout",
     "output_type": "stream",
     "text": [
      "1.0\n"
     ]
    },
    {
     "name": "stderr",
     "output_type": "stream",
     "text": [
      "C:\\Users\\Tim Buckley\\Documents\\Anaconda3\\lib\\site-packages\\sklearn\\svm\\base.py:193: FutureWarning: The default value of gamma will change from 'auto' to 'scale' in version 0.22 to account better for unscaled features. Set gamma explicitly to 'auto' or 'scale' to avoid this warning.\n",
      "  \"avoid this warning.\", FutureWarning)\n"
     ]
    },
    {
     "name": "stdout",
     "output_type": "stream",
     "text": [
      "0.9973\n"
     ]
    }
   ],
   "source": [
    "submit = pd.read_csv('sample_submission.csv');\n",
    "\n",
    "binnedFloats['fund_id'] = fundIdTag['fund_id']\n",
    "binnedFloats['greatstone_rating'] = fundIdTag['greatstone_rating']\n",
    "\n",
    "train = binnedFloats.dropna()\n",
    "\n",
    "test = binnedFloats[binnedFloats['greatstone_rating'].isna()]\n",
    "test = pd.merge(submit, test, how=\"inner\", on=\"fund_id\")\n",
    "\n",
    "x_train = train.drop(['greatstone_rating', 'fund_id'], axis = 1)\n",
    "y_train = train['greatstone_rating']\n",
    "\n",
    "x_test = test.drop(['greatstone_rating_x', 'greatstone_rating_y', 'fund_id'], axis = 1)\n",
    "\n",
    "rfcl = RandomForestClassifier(n_estimators = 100, random_state = 37, criterion='entropy')\n",
    "rfcl = rfcl.fit(x_train, y_train)\n",
    "print(rfcl.score(x_train , y_train))\n",
    "y_predict0 = rfcl.predict(x_test)\n",
    "\n",
    "clf = SVC()\n",
    "clf.fit(x_train, y_train)\n",
    "\n",
    "print(clf.score(x_train , y_train))\n",
    "\n",
    "y_predict = clf.predict(x_test).astype('int')\n",
    "\n",
    "predict = pd.DataFrame()\n",
    "predict['predict'] = y_predict.astype('int')"
   ]
  },
  {
   "cell_type": "code",
   "execution_count": 51,
   "metadata": {},
   "outputs": [
    {
     "name": "stderr",
     "output_type": "stream",
     "text": [
      "C:\\Users\\Tim Buckley\\Documents\\Anaconda3\\lib\\site-packages\\ipykernel_launcher.py:2: SettingWithCopyWarning: \n",
      "A value is trying to be set on a copy of a slice from a DataFrame\n",
      "\n",
      "See the caveats in the documentation: http://pandas.pydata.org/pandas-docs/stable/user_guide/indexing.html#returning-a-view-versus-a-copy\n",
      "  \n",
      "C:\\Users\\Tim Buckley\\Documents\\Anaconda3\\lib\\site-packages\\ipykernel_launcher.py:7: SettingWithCopyWarning: \n",
      "A value is trying to be set on a copy of a slice from a DataFrame\n",
      "\n",
      "See the caveats in the documentation: http://pandas.pydata.org/pandas-docs/stable/user_guide/indexing.html#returning-a-view-versus-a-copy\n",
      "  import sys\n",
      "C:\\Users\\Tim Buckley\\Documents\\Anaconda3\\lib\\site-packages\\ipykernel_launcher.py:12: SettingWithCopyWarning: \n",
      "A value is trying to be set on a copy of a slice from a DataFrame\n",
      "\n",
      "See the caveats in the documentation: http://pandas.pydata.org/pandas-docs/stable/user_guide/indexing.html#returning-a-view-versus-a-copy\n",
      "  if sys.path[0] == '':\n",
      "C:\\Users\\Tim Buckley\\Documents\\Anaconda3\\lib\\site-packages\\ipykernel_launcher.py:17: SettingWithCopyWarning: \n",
      "A value is trying to be set on a copy of a slice from a DataFrame\n",
      "\n",
      "See the caveats in the documentation: http://pandas.pydata.org/pandas-docs/stable/user_guide/indexing.html#returning-a-view-versus-a-copy\n",
      "C:\\Users\\Tim Buckley\\Documents\\Anaconda3\\lib\\site-packages\\ipykernel_launcher.py:22: SettingWithCopyWarning: \n",
      "A value is trying to be set on a copy of a slice from a DataFrame\n",
      "\n",
      "See the caveats in the documentation: http://pandas.pydata.org/pandas-docs/stable/user_guide/indexing.html#returning-a-view-versus-a-copy\n"
     ]
    }
   ],
   "source": [
    "submit['greatstone_rating'] = 3;\n",
    "submit['greatstone_rating'][y_predict0 == 0] = 0\n",
    "\n",
    "cond = predict.predict.values == 1\n",
    "equals = np.cumsum(cond)\n",
    "idx = np.searchsorted(equals, 8)\n",
    "submit['greatstone_rating'][idx] = 1\n",
    "\n",
    "cond = predict.predict.values == 2\n",
    "equals = np.cumsum(cond)\n",
    "idx = np.searchsorted(equals, 1)\n",
    "submit['greatstone_rating'][idx] = 2\n",
    "\n",
    "cond = predict.predict.values == 4\n",
    "equals = np.cumsum(cond)\n",
    "idx = np.searchsorted(equals, 2)\n",
    "submit['greatstone_rating'][idx] = 4\n",
    "\n",
    "cond = predict.predict.values == 5\n",
    "equals = np.cumsum(cond)\n",
    "idx = np.searchsorted(equals, 4)\n",
    "submit['greatstone_rating'][idx] = 5\n",
    "\n",
    "submit.to_csv('TEST_Final.csv', index=False)"
   ]
  },
  {
   "cell_type": "code",
   "execution_count": 16,
   "metadata": {},
   "outputs": [
    {
     "data": {
      "text/plain": [
       "91"
      ]
     },
     "execution_count": 16,
     "metadata": {},
     "output_type": "execute_result"
    }
   ],
   "source": []
  },
  {
   "cell_type": "code",
   "execution_count": null,
   "metadata": {},
   "outputs": [],
   "source": []
  }
 ],
 "metadata": {
  "kernelspec": {
   "display_name": "Python 3",
   "language": "python",
   "name": "python3"
  },
  "language_info": {
   "codemirror_mode": {
    "name": "ipython",
    "version": 3
   },
   "file_extension": ".py",
   "mimetype": "text/x-python",
   "name": "python",
   "nbconvert_exporter": "python",
   "pygments_lexer": "ipython3",
   "version": "3.7.4"
  }
 },
 "nbformat": 4,
 "nbformat_minor": 2
}
